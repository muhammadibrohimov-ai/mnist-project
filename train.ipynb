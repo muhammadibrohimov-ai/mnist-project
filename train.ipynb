{
 "cells": [
  {
   "cell_type": "code",
   "id": "initial_id",
   "metadata": {
    "collapsed": true,
    "ExecuteTime": {
     "end_time": "2025-10-11T08:51:53.498224Z",
     "start_time": "2025-10-11T08:51:53.491977Z"
    }
   },
   "source": [
    "import numpy as np\n",
    "\n",
    "import torch\n",
    "import torch.nn as nn\n",
    "import torch.optim as optim\n",
    "import torchvision\n",
    "import torchvision.transforms as transforms\n",
    "\n",
    "import matplotlib.pyplot as plt\n",
    "%matplotlib inline\n",
    "\n",
    "from PIL import Image"
   ],
   "outputs": [],
   "execution_count": 47
  },
  {
   "metadata": {},
   "cell_type": "markdown",
   "source": "### Checking is GPU connection available",
   "id": "67dffc004ecd1a27"
  },
  {
   "metadata": {
    "ExecuteTime": {
     "end_time": "2025-10-11T08:51:54.596118Z",
     "start_time": "2025-10-11T08:51:54.593859Z"
    }
   },
   "cell_type": "code",
   "source": "print(torch.backends.mps.is_available())",
   "id": "40088968aa514e0b",
   "outputs": [
    {
     "name": "stdout",
     "output_type": "stream",
     "text": [
      "True\n"
     ]
    }
   ],
   "execution_count": 48
  },
  {
   "metadata": {},
   "cell_type": "markdown",
   "source": "### Connecting to a device's GPU (on mac it is 'mps')",
   "id": "72639b049aa22454"
  },
  {
   "metadata": {
    "ExecuteTime": {
     "end_time": "2025-10-11T08:51:56.030614Z",
     "start_time": "2025-10-11T08:51:56.027107Z"
    }
   },
   "cell_type": "code",
   "source": [
    "device = torch.device('cpu')\n",
    "print(device)"
   ],
   "id": "59fc2ba3aba45376",
   "outputs": [
    {
     "name": "stdout",
     "output_type": "stream",
     "text": [
      "cpu\n"
     ]
    }
   ],
   "execution_count": 49
  },
  {
   "metadata": {
    "ExecuteTime": {
     "end_time": "2025-10-11T08:51:57.056076Z",
     "start_time": "2025-10-11T08:51:57.053749Z"
    }
   },
   "cell_type": "code",
   "source": [
    "transforms = transforms.Compose([\n",
    "    transforms.ToTensor(),\n",
    "    transforms.Normalize((0.5,), (0.5,)),\n",
    "])"
   ],
   "id": "fda7ee1b274fcee2",
   "outputs": [],
   "execution_count": 50
  },
  {
   "metadata": {
    "ExecuteTime": {
     "end_time": "2025-10-11T08:51:58.103503Z",
     "start_time": "2025-10-11T08:51:58.068681Z"
    }
   },
   "cell_type": "code",
   "source": [
    "train_set = torchvision.datasets.MNIST(\n",
    "    root='data/',\n",
    "    train=True,\n",
    "    download= True,\n",
    "    transform=transforms\n",
    ")"
   ],
   "id": "5c23031696e80dcf",
   "outputs": [],
   "execution_count": 51
  },
  {
   "metadata": {
    "ExecuteTime": {
     "end_time": "2025-10-11T08:51:59.180091Z",
     "start_time": "2025-10-11T08:51:59.177949Z"
    }
   },
   "cell_type": "code",
   "source": "train_data = torch.utils.data.DataLoader(train_set, batch_size=64, shuffle=True)",
   "id": "1cdd28cd7c7e5d73",
   "outputs": [],
   "execution_count": 52
  },
  {
   "metadata": {
    "ExecuteTime": {
     "end_time": "2025-10-11T08:51:59.853421Z",
     "start_time": "2025-10-11T08:51:59.840429Z"
    }
   },
   "cell_type": "code",
   "source": [
    "misol = next(iter(train_data))\n",
    "misol[0].shape"
   ],
   "id": "96ca2ef474aed763",
   "outputs": [
    {
     "data": {
      "text/plain": [
       "torch.Size([64, 1, 28, 28])"
      ]
     },
     "execution_count": 53,
     "metadata": {},
     "output_type": "execute_result"
    }
   ],
   "execution_count": 53
  },
  {
   "metadata": {
    "ExecuteTime": {
     "end_time": "2025-10-11T08:52:00.976123Z",
     "start_time": "2025-10-11T08:52:00.973519Z"
    }
   },
   "cell_type": "code",
   "source": [
    "class SimpleCNN(nn.Module):\n",
    "    def __init__(self):\n",
    "        super(SimpleCNN, self).__init__()\n",
    "\n",
    "\n",
    "        self.net = nn.Sequential(\n",
    "            nn.Conv2d(in_channels=1, out_channels=16, kernel_size=3, stride=1, padding=1),\n",
    "            nn.ReLU(),\n",
    "            nn.MaxPool2d(kernel_size=2, stride=2),\n",
    "\n",
    "             nn.Conv2d(in_channels=16, out_channels=32, kernel_size=3, stride=1,padding=1),\n",
    "            nn.ReLU(),\n",
    "            nn.MaxPool2d(kernel_size=2, stride=2),\n",
    "\n",
    "            nn.Flatten(),\n",
    "            nn.Linear(32*7*7, 128),\n",
    "            nn.ReLU(),\n",
    "            nn.Linear(128, 10),\n",
    "        )\n",
    "\n",
    "    def forward(self, x):\n",
    "        return self.net(x)"
   ],
   "id": "b6201ac78d875667",
   "outputs": [],
   "execution_count": 54
  },
  {
   "metadata": {
    "ExecuteTime": {
     "end_time": "2025-10-11T08:52:02.019049Z",
     "start_time": "2025-10-11T08:52:02.015906Z"
    }
   },
   "cell_type": "code",
   "source": "model = SimpleCNN().to(device)",
   "id": "3feb4b18fda87e9",
   "outputs": [],
   "execution_count": 55
  },
  {
   "metadata": {
    "ExecuteTime": {
     "end_time": "2025-10-11T08:53:57.517028Z",
     "start_time": "2025-10-11T08:52:03.125030Z"
    }
   },
   "cell_type": "code",
   "source": [
    "criterion = nn.CrossEntropyLoss()\n",
    "optimizer = optim.Adam(params=model.parameters(), lr = 0.001)\n",
    "\n",
    "epoches = 10\n",
    "\n",
    "losses = []\n",
    "\n",
    "for epoch in range(epoches):\n",
    "\n",
    "    model.train()\n",
    "    total_losses = 0\n",
    "\n",
    "    for data, label in train_data:\n",
    "        data, label = data.to(device), label.to(device)\n",
    "        optimizer.zero_grad()\n",
    "\n",
    "        output = model(data)\n",
    "        loss = criterion(output, label)\n",
    "\n",
    "        loss.backward()\n",
    "        optimizer.step()\n",
    "\n",
    "        total_losses += loss\n",
    "\n",
    "    print(f'Epoxa : {epoch}, Loss : {total_losses / len(train_data)}\\n\\n')"
   ],
   "id": "421672165860b8d8",
   "outputs": [
    {
     "name": "stdout",
     "output_type": "stream",
     "text": [
      "Epoxa : 0, Loss : 0.20100966095924377\n",
      "\n",
      "\n",
      "Epoxa : 1, Loss : 0.05505594238638878\n",
      "\n",
      "\n",
      "Epoxa : 2, Loss : 0.03959861025214195\n",
      "\n",
      "\n",
      "Epoxa : 3, Loss : 0.028963439166545868\n",
      "\n",
      "\n",
      "Epoxa : 4, Loss : 0.02318253368139267\n",
      "\n",
      "\n",
      "Epoxa : 5, Loss : 0.01842491514980793\n",
      "\n",
      "\n",
      "Epoxa : 6, Loss : 0.014693639241158962\n",
      "\n",
      "\n",
      "Epoxa : 7, Loss : 0.01229526661336422\n",
      "\n",
      "\n",
      "Epoxa : 8, Loss : 0.010948248207569122\n",
      "\n",
      "\n",
      "Epoxa : 9, Loss : 0.009233430027961731\n",
      "\n",
      "\n"
     ]
    }
   ],
   "execution_count": 56
  },
  {
   "metadata": {
    "ExecuteTime": {
     "end_time": "2025-10-11T08:54:03.712257Z",
     "start_time": "2025-10-11T08:54:03.704868Z"
    }
   },
   "cell_type": "code",
   "source": "torch.save(model.state_dict(), \"simplecnn_state.pth\")",
   "id": "8ee8a41986cff09d",
   "outputs": [],
   "execution_count": 57
  },
  {
   "metadata": {},
   "cell_type": "code",
   "outputs": [],
   "execution_count": null,
   "source": "",
   "id": "61f3dd14e607be60"
  }
 ],
 "metadata": {
  "kernelspec": {
   "display_name": "Python 3",
   "language": "python",
   "name": "python3"
  },
  "language_info": {
   "codemirror_mode": {
    "name": "ipython",
    "version": 2
   },
   "file_extension": ".py",
   "mimetype": "text/x-python",
   "name": "python",
   "nbconvert_exporter": "python",
   "pygments_lexer": "ipython2",
   "version": "2.7.6"
  }
 },
 "nbformat": 4,
 "nbformat_minor": 5
}
